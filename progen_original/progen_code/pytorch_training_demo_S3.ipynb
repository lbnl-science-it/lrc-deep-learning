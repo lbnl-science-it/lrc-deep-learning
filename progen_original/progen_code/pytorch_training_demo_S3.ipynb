{
 "cells": [
  {
   "cell_type": "code",
   "execution_count": 1,
   "id": "4bd5cf59",
   "metadata": {},
   "outputs": [
    {
     "name": "stderr",
     "output_type": "stream",
     "text": [
      "2023-07-16 21:12:15.876454: I tensorflow/core/platform/cpu_feature_guard.cc:182] This TensorFlow binary is optimized to use available CPU instructions in performance-critical operations.\n",
      "To enable the following instructions: AVX2 FMA, in other operations, rebuild TensorFlow with the appropriate compiler flags.\n",
      "2023-07-16 21:12:40.557461: W tensorflow/compiler/tf2tensorrt/utils/py_utils.cc:38] TF-TRT Warning: Could not find TensorRT\n"
     ]
    }
   ],
   "source": [
    "from __future__ import print_function\n",
    "from __future__ import division\n",
    "import sys\n",
    "import torch\n",
    "import os\n",
    "import tqdm\n",
    "import pdb\n",
    "import numpy as np\n",
    "import platform\n",
    "import hashlib\n",
    "import pytorch_transformer\n",
    "import re\n",
    "import argparse\n",
    "import torch.nn.functional as F\n",
    "from torch.utils.tensorboard import SummaryWriter\n",
    "from transformProtein import transformProtein\n",
    "from ProteinDataset import ProteinDataset\n",
    "from torch.utils.data import Dataset, DataLoader\n",
    "import pickle"
   ]
  },
  {
   "cell_type": "code",
   "execution_count": 2,
   "id": "a2fde6d9",
   "metadata": {},
   "outputs": [],
   "source": [
    "use_py3 = platform.python_version()[0] == '3'\n",
    "\n",
    "parser = argparse.ArgumentParser(description='PyTorch code for generating from CTRL')\n",
    "\n",
    "#parser.add_argument('--model_dir', type =str, default='model_v0.pth', help='location of training model checkpoint')\n",
    "#parser.add_argument('--model_path', type=str, default='/home/amadani/ctrl/ckpt/seqlen256_36layers_v0.ckpt/model.ckpt-684000', help='location of model *data* checkpoint to load; this is NOT the directory but rather the model checkpoint')\n",
    "\n",
    "parser.add_argument('--model_dir', type =str, default='./checkpoints_cur/finetune_progen_full_demo.pth', help='location of training model checkpoint')\n",
    "parser.add_argument('--model_path', type=str, default='../checkpoints/pretrain_progen_full.pth', help='location of model *data* checkpoint to load; this is NOT the directory but rather the model checkpoint')\n",
    "\n",
    "parser.add_argument('--seed', type=int, default=313,\n",
    "                                        help='random seed for PyTorch, numpy and PythonHash')\n",
    "parser.add_argument('--sequence_len', type=int, default=511*1,\n",
    "                                        help='sequence len of model being fine-tuned')\n",
    "parser.add_argument('--num_epochs', type=int, default=1500, help='number of epochs to train for')\n",
    "parser.add_argument('--num_layers', type=int, default=36, help='number of transfomer layers. used for loading checkpoint')\n",
    "parser.add_argument('--batch_size', type=int, default = 4*2, help='batch size for dataloader')\n",
    "parser.add_argument('--vocab_loc', type=str, default='mapping_files/vocab.txt', help='vocab location')\n",
    "parser.add_argument('--num_workers', type=int, default=0, help='for dataloader')\n",
    "parser.add_argument('--warmup_iteration', type=int, default=1000, help='LR warmup cutoff')\n",
    "parser.add_argument('--save_iter', type=int, default=1000, help='save model checkpoint every X iterations')\n",
    "\n",
    "args = parser.parse_args(\"\")"
   ]
  },
  {
   "cell_type": "code",
   "execution_count": 3,
   "id": "9d9a4d94",
   "metadata": {},
   "outputs": [],
   "source": [
    "torch.manual_seed(args.seed)\n",
    "torch.cuda.manual_seed_all(args.seed)\n",
    "os.environ['PYTHONHASHSEED'] = str(args.seed)\n",
    "np.random.seed(args.seed)"
   ]
  },
  {
   "cell_type": "code",
   "execution_count": 4,
   "id": "4e8061b8",
   "metadata": {},
   "outputs": [
    {
     "name": "stdout",
     "output_type": "stream",
     "text": [
      "cuda:0\n"
     ]
    }
   ],
   "source": [
    "CUDA_DEVICE_NUM = 0\n",
    "DEVICE = torch.device(f'cuda:{CUDA_DEVICE_NUM}' if torch.cuda.is_available() else 'cpu')\n",
    "print(DEVICE)"
   ]
  },
  {
   "cell_type": "code",
   "execution_count": 5,
   "id": "3d391800",
   "metadata": {},
   "outputs": [
    {
     "name": "stdout",
     "output_type": "stream",
     "text": [
      "-----vocab size 129407 ------\n"
     ]
    }
   ],
   "source": [
    "# load the vocabulary from file\n",
    "vocab = open(args.vocab_loc).readlines() if not use_py3 else open(args.vocab_loc, encoding='utf-8').read().split('\\n')[:-1]\n",
    "vocab = list(map(lambda x: x.split(' ')[0], vocab))\n",
    "# length of the vocabulary\n",
    "vocab_size = len(vocab)\n",
    "print('-----vocab size',vocab_size,'------')\n",
    "\n",
    "# define the numericalization map\n",
    "# idx2word maps the numericalized ID to the word\n",
    "# word2idx maps the word to the numericalized ID\n",
    "#word2idx = {u:i for i, u in enumerate(vocab)}\n",
    "#idx2word = np.array(vocab)\n",
    "\n",
    "# sequence length to use for transfomer\n",
    "seq_length = args.sequence_len\n",
    "embedding_dim = 1280"
   ]
  },
  {
   "cell_type": "code",
   "execution_count": 6,
   "id": "50dc7f40",
   "metadata": {},
   "outputs": [],
   "source": [
    "class TiedEmbeddingSoftmax(torch.nn.Module):\n",
    "\n",
    "  def __init__(self, vocab_size=vocab_size, embedding_size=embedding_dim, **kwargs):\n",
    "    super(TiedEmbeddingSoftmax, self).__init__()\n",
    "    self.w = torch.nn.Parameter(torch.normal(0., 1e-2, size=(vocab_size, embedding_size)))\n",
    "    self.b = torch.nn.Parameter(torch.zeros(vocab_size))\n",
    "\n",
    "  def forward(self, inputs, embed=True):\n",
    "    if embed:\n",
    "      return torch.nn.functional.embedding(inputs, self.w)\n",
    "    else:\n",
    "      return torch.tensordot(inputs, self.w.t(), 1) + self.b\n",
    "\n",
    "class CTRLmodel(torch.nn.Module):\n",
    "  def __init__(self):\n",
    "    super(CTRLmodel,self).__init__()\n",
    "    self.tied_embedding_softmax = TiedEmbeddingSoftmax()\n",
    "    self.encoder = pytorch_transformer.Encoder(device=DEVICE)\n",
    "\n",
    "  def forward(self, inputs):\n",
    "    x = self.tied_embedding_softmax(inputs, embed = True)\n",
    "    x = self.encoder(x)\n",
    "    x = self.tied_embedding_softmax(x, embed = False)\n",
    "    return x\n",
    "\n",
    "  def loadCheckpoint(self, model_path, num_layers):\n",
    "    #pytorch_model_hash = hashlib.md5(model_path.encode('utf-8')).hexdigest()\n",
    "    pytorch_model_hash = model_path\n",
    "\n",
    "    if os.path.exists(pytorch_model_hash):\n",
    "      print('Found PyTorch checkpoint @', pytorch_model_hash)\n",
    "      print('Loading instead of converting from TensorFlow')\n",
    "      checkpoint = torch.load(pytorch_model_hash)\n",
    "      \n",
    "      #self.tied_embedding_softmax.load_state_dict(checkpoint['softmax'])\n",
    "      #self.encoder.load_state_dict(checkpoint['encoder'])\n",
    "      ## load state dict has KeyError, because checkpoint is ready the state_dict\n",
    "      ## can load checkpoint directly \n",
    "      ## https://discuss.pytorch.org/t/keyerror-state-dict/18220/5\n",
    "      self.load_state_dict(checkpoint)\n",
    "\n",
    "      #self.tied_embedding_softmax.to('cuda')\n",
    "      #self.encoder.to('cuda')\n",
    "      self.tied_embedding_softmax.to(DEVICE)\n",
    "      self.encoder.to(DEVICE)\n",
    "      #self.tied_embedding_softmax.cuda()\n",
    "      #self.encoder.cuda()\n",
    "\n",
    "    else:\n",
    "      print('Error: Could not find PyTorch checkpoint')\n",
    "      sys.exit(1)"
   ]
  },
  {
   "cell_type": "code",
   "execution_count": 7,
   "id": "6905b324",
   "metadata": {},
   "outputs": [
    {
     "name": "stdout",
     "output_type": "stream",
     "text": [
      "model initialized\n"
     ]
    }
   ],
   "source": [
    "# initialize ctrl object\n",
    "model = CTRLmodel()\n",
    "print('model initialized')"
   ]
  },
  {
   "cell_type": "code",
   "execution_count": 8,
   "id": "bada7224",
   "metadata": {},
   "outputs": [
    {
     "name": "stdout",
     "output_type": "stream",
     "text": [
      "Found PyTorch checkpoint @ ../checkpoints/pretrain_progen_full.pth\n",
      "Loading instead of converting from TensorFlow\n",
      "previous checkpoint loaded\n"
     ]
    }
   ],
   "source": [
    "# load checkpoint with args.model_path\n",
    "model.loadCheckpoint(model_path=args.model_path, num_layers = args.num_layers)\n",
    "print('previous checkpoint loaded')\n",
    "#model = model.cuda()\n",
    "model = model.to(DEVICE)"
   ]
  },
  {
   "cell_type": "code",
   "execution_count": 9,
   "id": "e8a04bec",
   "metadata": {},
   "outputs": [],
   "source": [
    "# freeze all weights except embedding\n",
    "for p in model.parameters():\n",
    "    p.requires_grad=False\n",
    "model.tied_embedding_softmax.w.requires_grad=True\n",
    "model.tied_embedding_softmax.b.requires_grad=True"
   ]
  },
  {
   "cell_type": "code",
   "execution_count": 10,
   "id": "9129fc54",
   "metadata": {},
   "outputs": [],
   "source": [
    "# Create a DataParallel model\n",
    "# if torch.cuda.device_count() > 1:\n",
    "#     model = torch.nn.DataParallel(model)\n",
    "#     model = model.cuda()"
   ]
  },
  {
   "cell_type": "code",
   "execution_count": 11,
   "id": "1a32b9d6",
   "metadata": {},
   "outputs": [],
   "source": [
    "class Trainer(object):\n",
    "    def __init__(self, model, warmup_iteration, seq_length, batch_size, num_workers, vocab_size, model_dir, save_iter, pklpath):\n",
    "        self.model = model\n",
    "        self.batch_size = batch_size\n",
    "        self.num_workers = num_workers\n",
    "        self.vocab_size = vocab_size\n",
    "        self.model_dir = model_dir\n",
    "        self.save_iter = save_iter\n",
    "        self.pklpath = pklpath\n",
    "        self.firstAAidx = self.vocab_size - 26 # Assuming that the pad token is the last token and AAs are at the end\n",
    "        \n",
    "        self.optimizer = torch.optim.Adam(self.model.parameters()) #lr, betas\n",
    "        lambdafn = lambda iteration: min(iteration/(warmup_iteration*1.0),1.0)\n",
    "        self.scheduler = torch.optim.lr_scheduler.LambdaLR(self.optimizer, lambdafn)\n",
    "        \n",
    "        self.criterion = torch.nn.CrossEntropyLoss(ignore_index=self.vocab_size-1, reduction='none')\n",
    "        \n",
    "        self.transformFull = transformProtein(maxSampleLength = seq_length+1, \n",
    "                                              selectSwiss = 1.0, selectTrembl = 0, \n",
    "                                              maxTaxaPerSample = 3, maxKwPerSample = 5, dropRate = 0.2)\n",
    "        self.transformPartial = transformProtein(maxSampleLength = seq_length+1,   \n",
    "                                                 selectSwiss = 1.0, selectTrembl = 0,\n",
    "                                                 maxTaxaPerSample = 3, maxKwPerSample = 5, dropRate = 0.2)\n",
    "        self.transformNone = transformProtein(maxSampleLength = seq_length+1,   \n",
    "                                              selectSwiss = 1.0, selectTrembl = 0,\n",
    "                                              maxTaxaPerSample = 3, maxKwPerSample = 5, dropRate = 0.2)\n",
    "        \n",
    "        self.writer = SummaryWriter()\n",
    "\n",
    "    def train(self, num_epochs):\n",
    "        self.model.train()\n",
    "\n",
    "        iter_num = 0\n",
    "        for epoch in range(num_epochs):\n",
    "            loss_e = 0.0\n",
    "            num_e = 0\n",
    "\n",
    "            for chunknum in range(1):\n",
    "                #pklpath = '../miBIG/mibig_train_new2.p'\n",
    "                #pklpath = '../miBIG/mibig_train_new.p'\n",
    "                chunk_dataset = ProteinDataset(self.pklpath, firstAAidx = self.firstAAidx, transformFull = self.transformFull, \n",
    "                                               transformPartial = self.transformPartial, transformNone = self.transformNone)\n",
    "                dataloader = DataLoader(chunk_dataset, shuffle = True, batch_size = self.batch_size,\n",
    "                                        num_workers = self.num_workers, pin_memory = False) #TODO pinmem?\n",
    "                \n",
    "                for i, (sample, labels, existence, padIndex, begAAindex) in enumerate(dataloader):\n",
    "                    self.optimizer.zero_grad()\n",
    "                    #sample, labels, existence, padIndex = sample.cuda(), labels.cuda(), existence.cuda(), padIndex.cuda()\n",
    "                    sample, labels, existence, padIndex = sample.to(DEVICE), labels.to(DEVICE), existence.to(DEVICE), padIndex.to(DEVICE)\n",
    "                    output = self.model(sample)\n",
    "                    #pdb.set_trace()\n",
    "                    loss = self.criterion(output.permute(0,2,1), labels)\n",
    "                    loss = torch.mean((torch.sum(loss,dim=1)/padIndex)*existence) #pad masking, loss weighting\n",
    "                    loss.backward()\n",
    "                    torch.nn.utils.clip_grad_norm_(self.model.parameters(), 0.25)\n",
    "                    self.optimizer.step()\n",
    "                    self.scheduler.step()\n",
    "                    loss_e += loss.item()\n",
    "                    num_e += sample.shape[0]\n",
    "                    iter_num += 1\n",
    "                    self.writer.add_scalar('Loss_iteration',loss.item(),iter_num)\n",
    "\n",
    "                    if (iter_num+1)%self.save_iter==0 or (epoch+1==num_epochs):\n",
    "                        torch.save({'epoch': epoch, 'chunknum': chunknum, 'iteration':iter_num,\n",
    "                                    'model_state_dict': self.model.state_dict(),\n",
    "                                    'optimizer_state_dict': self.optimizer.state_dict(),\n",
    "                                    'loss': loss,\n",
    "                                   }, self.model_dir)\n",
    "                loss_e/=num_e\n",
    "            print(\"Epoch: {0} ; loss_e: {1}\".format(epoch, loss_e))\n",
    "            self.writer.add_scalar('Loss_epoch',loss_e, epoch)"
   ]
  },
  {
   "cell_type": "markdown",
   "id": "d735a20d",
   "metadata": {},
   "source": [
    "## BGC training samples on S3:\n",
    "`aws s3 ls s3://share.jgi-ga.org/satria/for_bgc_gpt/ --recursive`"
   ]
  },
  {
   "cell_type": "code",
   "execution_count": 105,
   "id": "8bcf1587",
   "metadata": {},
   "outputs": [],
   "source": [
    "import json\n",
    "import pickle\n",
    "import pandas as pd\n",
    "\n",
    "# Read JSON data from file\n",
    "with open('../miBIG/S3/data-1.json', 'r') as json_file:\n",
    "    json_data = json.load(json_file)\n",
    "\n",
    "json_dict = {}\n",
    "for k in range(len(json_data[:])):\n",
    "    d = json_data[k]\n",
    "    d['seq'] = d['seq'].replace(' ', 'B')\n",
    "    list(d['swiss'].keys())[0]\n",
    "    uid = 'BGC' + list(d['swiss'].keys())[0] + '-' + str(k)\n",
    "    d['swiss'] = dict(zip([uid], d['swiss'].values()))\n",
    "    json_dict[uid] = d"
   ]
  },
  {
   "cell_type": "code",
   "execution_count": 106,
   "id": "36a0c41e",
   "metadata": {},
   "outputs": [
    {
     "data": {
      "text/plain": [
       "{'swiss': {'BGC82598-0': {'ex': 1,\n",
       "   'kw': ['GCF-244878', 'RiPP/bacteriocin'],\n",
       "   'taxa': []}},\n",
       " 'seq': 'MNGKRNIFTCISIIGIGLASFSSFSFAANVTDNSVQNSIPVVNQQVAAAKEMKPFPQQVNYAGVIKPTHVTQESLNASVRSYYDNWKKKYLKNDLSSLPGGYYVKGEITGDADGFKPLGTSEGQGYGMIITVLMAGYDSNAQKIYDGLFKTARTFKSSQNPNLMGWVVADSKKAQGHFDSATDGDLDIAYSLLLAHKQWGSNGTVNYLKEAQDMITKGIKASNVTNNSRLNLGDWDSKNSLDTRPSDWMMSHLRAFYEFTGDKTWLTVINNLYDVYTQFSNKYSPNTGLISDFVVKNPPQPAPKDFLEESEYTNAYYYNASRVPLRIVMDYAMYGEKRSKVISDKVSSWIQNKTNGNPSKIVDGYQLNGSNIGSYSTAVFVSPFIAASITSSNNQKWVNSGWDWMKNKRESYFSDSYNLLTMLFITGNWWKPVPDDKKIQNQINDAIYEGYDNBMEKVLFFGDPGIDDSFAIMYGLLHPEIEIVGIVTGYGNVEHIHAAHNAAYILQLANRQ'}"
      ]
     },
     "execution_count": 106,
     "metadata": {},
     "output_type": "execute_result"
    }
   ],
   "source": [
    "json_dict['BGC82598-0']"
   ]
  },
  {
   "cell_type": "code",
   "execution_count": 107,
   "id": "73533afd",
   "metadata": {},
   "outputs": [
    {
     "data": {
      "text/html": [
       "<div>\n",
       "<style scoped>\n",
       "    .dataframe tbody tr th:only-of-type {\n",
       "        vertical-align: middle;\n",
       "    }\n",
       "\n",
       "    .dataframe tbody tr th {\n",
       "        vertical-align: top;\n",
       "    }\n",
       "\n",
       "    .dataframe thead th {\n",
       "        text-align: right;\n",
       "    }\n",
       "</style>\n",
       "<table border=\"1\" class=\"dataframe\">\n",
       "  <thead>\n",
       "    <tr style=\"text-align: right;\">\n",
       "      <th></th>\n",
       "      <th>key</th>\n",
       "      <th>value</th>\n",
       "    </tr>\n",
       "  </thead>\n",
       "  <tbody>\n",
       "    <tr>\n",
       "      <th>0</th>\n",
       "      <td>472</td>\n",
       "      <td>0</td>\n",
       "    </tr>\n",
       "    <tr>\n",
       "      <th>1</th>\n",
       "      <td>812</td>\n",
       "      <td>1</td>\n",
       "    </tr>\n",
       "    <tr>\n",
       "      <th>2</th>\n",
       "      <td>1133</td>\n",
       "      <td>2</td>\n",
       "    </tr>\n",
       "    <tr>\n",
       "      <th>3</th>\n",
       "      <td>808</td>\n",
       "      <td>3</td>\n",
       "    </tr>\n",
       "    <tr>\n",
       "      <th>4</th>\n",
       "      <td>175</td>\n",
       "      <td>4</td>\n",
       "    </tr>\n",
       "    <tr>\n",
       "      <th>...</th>\n",
       "      <td>...</td>\n",
       "      <td>...</td>\n",
       "    </tr>\n",
       "    <tr>\n",
       "      <th>129402</th>\n",
       "      <td>W</td>\n",
       "      <td>129402</td>\n",
       "    </tr>\n",
       "    <tr>\n",
       "      <th>129403</th>\n",
       "      <td>X</td>\n",
       "      <td>129403</td>\n",
       "    </tr>\n",
       "    <tr>\n",
       "      <th>129404</th>\n",
       "      <td>Y</td>\n",
       "      <td>129404</td>\n",
       "    </tr>\n",
       "    <tr>\n",
       "      <th>129405</th>\n",
       "      <td>Z</td>\n",
       "      <td>129405</td>\n",
       "    </tr>\n",
       "    <tr>\n",
       "      <th>129406</th>\n",
       "      <td>PAD</td>\n",
       "      <td>129406</td>\n",
       "    </tr>\n",
       "  </tbody>\n",
       "</table>\n",
       "<p>129407 rows × 2 columns</p>\n",
       "</div>"
      ],
      "text/plain": [
       "         key   value\n",
       "0        472       0\n",
       "1        812       1\n",
       "2       1133       2\n",
       "3        808       3\n",
       "4        175       4\n",
       "...      ...     ...\n",
       "129402     W  129402\n",
       "129403     X  129403\n",
       "129404     Y  129404\n",
       "129405     Z  129405\n",
       "129406   PAD  129406\n",
       "\n",
       "[129407 rows x 2 columns]"
      ]
     },
     "execution_count": 107,
     "metadata": {},
     "output_type": "execute_result"
    }
   ],
   "source": [
    "vocab_df = pd.read_csv('mapping_files/vocab.txt', sep=' ',header=None)\n",
    "vocab_df.columns = ['key','value']\n",
    "vocab_df"
   ]
  },
  {
   "cell_type": "code",
   "execution_count": 108,
   "id": "47899dfc",
   "metadata": {},
   "outputs": [
    {
     "data": {
      "text/plain": [
       "array(['GCF-244878', 'GCF-245373', 'GCF-245671', 'GCF-245936',\n",
       "       'GCF-246515', 'GCF-247890'], dtype='<U10')"
      ]
     },
     "execution_count": 108,
     "metadata": {},
     "output_type": "execute_result"
    }
   ],
   "source": [
    "kw = [json_dict[uid]['swiss'][uid]['kw'] for uid in json_dict.keys()]\n",
    "kw_types = np.unique([k[0] for k in kw])\n",
    "kw_types"
   ]
  },
  {
   "cell_type": "code",
   "execution_count": 109,
   "id": "f8575a01",
   "metadata": {},
   "outputs": [
    {
     "data": {
      "text/plain": [
       "{'GCF-244878': '472',\n",
       " 'GCF-245373': '812',\n",
       " 'GCF-245671': '1133',\n",
       " 'GCF-245936': '808',\n",
       " 'GCF-246515': '175',\n",
       " 'GCF-247890': '732'}"
      ]
     },
     "execution_count": 109,
     "metadata": {},
     "output_type": "execute_result"
    }
   ],
   "source": [
    "kw_map = dict(zip(kw_types, vocab_df['key'][:len(kw_types)]))\n",
    "kw_map"
   ]
  },
  {
   "cell_type": "code",
   "execution_count": 110,
   "id": "7bd15367",
   "metadata": {},
   "outputs": [],
   "source": [
    "for uid in json_dict.keys():\n",
    "    json_dict[uid]['swiss'][uid]['taxa'] = [9606] # homo sapiens taxonomy id from NCBI: https://www.ncbi.nlm.nih.gov/taxonomy\n",
    "    kw_tmp = json_dict[uid]['swiss'][uid]['kw']\n",
    "    json_dict[uid]['swiss'][uid]['kw'] = [kw_map[kw_tmp[0]]]"
   ]
  },
  {
   "cell_type": "code",
   "execution_count": 111,
   "id": "67af1457",
   "metadata": {},
   "outputs": [
    {
     "data": {
      "text/plain": [
       "{'swiss': {'BGC82598-0': {'ex': 1, 'kw': ['472'], 'taxa': [9606]}},\n",
       " 'seq': 'MNGKRNIFTCISIIGIGLASFSSFSFAANVTDNSVQNSIPVVNQQVAAAKEMKPFPQQVNYAGVIKPTHVTQESLNASVRSYYDNWKKKYLKNDLSSLPGGYYVKGEITGDADGFKPLGTSEGQGYGMIITVLMAGYDSNAQKIYDGLFKTARTFKSSQNPNLMGWVVADSKKAQGHFDSATDGDLDIAYSLLLAHKQWGSNGTVNYLKEAQDMITKGIKASNVTNNSRLNLGDWDSKNSLDTRPSDWMMSHLRAFYEFTGDKTWLTVINNLYDVYTQFSNKYSPNTGLISDFVVKNPPQPAPKDFLEESEYTNAYYYNASRVPLRIVMDYAMYGEKRSKVISDKVSSWIQNKTNGNPSKIVDGYQLNGSNIGSYSTAVFVSPFIAASITSSNNQKWVNSGWDWMKNKRESYFSDSYNLLTMLFITGNWWKPVPDDKKIQNQINDAIYEGYDNBMEKVLFFGDPGIDDSFAIMYGLLHPEIEIVGIVTGYGNVEHIHAAHNAAYILQLANRQ'}"
      ]
     },
     "execution_count": 111,
     "metadata": {},
     "output_type": "execute_result"
    }
   ],
   "source": [
    "json_dict['BGC82598-0']"
   ]
  },
  {
   "cell_type": "code",
   "execution_count": 98,
   "id": "4764e76d",
   "metadata": {},
   "outputs": [],
   "source": [
    "# Convert Python object to pickle\n",
    "with open('../miBIG/S3_pickle/data-1.pickle', 'wb') as pickle_file:\n",
    "    pickle.dump(json_dict, pickle_file)"
   ]
  },
  {
   "cell_type": "code",
   "execution_count": 90,
   "id": "b9e3df09",
   "metadata": {},
   "outputs": [
    {
     "name": "stdout",
     "output_type": "stream",
     "text": [
      "Using one unified encoder to represent protein sample with length 129406\n",
      "training data size: 6650\n"
     ]
    },
    {
     "data": {
      "image/png": "[encoded data removed]",
      "text/plain": [
       "<Figure size 640x480 with 1 Axes>"
      ]
     },
     "metadata": {},
     "output_type": "display_data"
    }
   ],
   "source": [
    "##########################################################\n",
    "# Check the format of training data before the model train\n",
    "##########################################################\n",
    "pklpath = '../miBIG/S3_pickle/data-1.pickle'\n",
    "#pklpath = '../miBIG/mibig_train_new3.p'  # size=100\n",
    "#pklpath = '../miBIG/mibig_train_new2.p' # size=60\n",
    "#pklpath = '../miBIG/mibig_train_new.p'  # size=49\n",
    "#pklpath = '../miBIG/mibig_train.p'      # size=60 with format error\n",
    "\n",
    "obj = transformProtein(mapfold = \"./mapping_files\", selectSwiss = 1.0, selectTrembl = 0, maxTaxaPerSample = 3, maxKwPerSample = 5, dropRate = 0.2)\n",
    "with open(pklpath, 'rb') as handle:\n",
    "    train_chunk = pickle.load(handle)\n",
    "\n",
    "    error_uid = []\n",
    "for uid in train_chunk.keys():\n",
    "  try:\n",
    "    sample_arr, existence, thePadIndex = obj.transformSample(train_chunk[uid])\n",
    "    #print(\"loaded UID:\", uid)\n",
    "  except:\n",
    "    error_uid.append(uid)\n",
    "    print(\"Error UID:\", uid)\n",
    "    print(train_chunk[uid])\n",
    "\n",
    "for uid in error_uid:\n",
    "    train_chunk.pop(uid)\n",
    "    print(\"Removed UID:\", uid)\n",
    "    \n",
    "print(\"training data size:\", len(train_chunk))\n",
    "\n",
    "import matplotlib.pyplot as plt\n",
    "train_seq_len = [len(train_chunk[k]['seq'])for k in train_chunk]\n",
    "plt.hist(np.array(train_seq_len), bins=len(train_chunk))\n",
    "plt.xlabel('seq len')\n",
    "plt.ylabel('Frequency')\n",
    "plt.title('training data size={}'.format(len(train_chunk)))\n",
    "plt.show()"
   ]
  },
  {
   "cell_type": "code",
   "execution_count": 6,
   "id": "728d2e36",
   "metadata": {},
   "outputs": [
    {
     "data": {
      "text/plain": [
       "{'swiss': {'BGC0001135': {'ex': 1, 'kw': ['NRP'], 'taxa': [290110]}},\n",
       " 'seq': 'MTELDRAFDAVPAPIYTHHERHGETVHRSAPESIRRELAALQVRAGDRVLEIGTGSGYSGALLAHLCCPDGQVTSIDISDELVRRAAAIHAERGVTSVDCHVGDGLAGYPAAAPFHRAVSWCAPPRLPRAWTQQVVNGGRIVACLPITALPSTTLIATITVAAGKPRIEALAGGGYAQSTPVAVDDALTVPGRWVDYCDRQPDPSWIGICWRSADDAQHTGARSALGQLLHPGYTDTYRQMEPHWRSWYTWTSALGDPQLSLVSLRNEIRGLGHTTPSSAAVILTDGRVIADRPDSPSLRSLRTWLQRWEHVGRPAPESFARTLVPHDCPDLAGWDLQVGHGSVTTDRQPPRRVDEPRRP'}"
      ]
     },
     "execution_count": 6,
     "metadata": {},
     "output_type": "execute_result"
    }
   ],
   "source": [
    "train_chunk['BGC0001135']"
   ]
  },
  {
   "cell_type": "code",
   "execution_count": 14,
   "id": "6f0cd03a",
   "metadata": {},
   "outputs": [
    {
     "name": "stdout",
     "output_type": "stream",
     "text": [
      "warmup_iteration = 1000,\n",
      "seq_length = 511, \n",
      "batch_size = 8, \n",
      "num_workers = 0, \n",
      "vocab_size = 129407, \n",
      "model_dir = ./checkpoints_cur/finetune_progen_full_demo.pth, \n",
      "save_iter = 1000,\n",
      "pklpath = ../miBIG/S3_pickle/data-1.pickle\n"
     ]
    }
   ],
   "source": [
    "print(f\"warmup_iteration = {args.warmup_iteration},\\\n",
    "\\nseq_length = {seq_length}, \\\n",
    "\\nbatch_size = {args.batch_size}, \\\n",
    "\\nnum_workers = {args.num_workers}, \\\n",
    "\\nvocab_size = {vocab_size}, \\\n",
    "\\nmodel_dir = {args.model_dir}, \\\n",
    "\\nsave_iter = {args.save_iter},\\\n",
    "\\npklpath = {pklpath}\")"
   ]
  },
  {
   "cell_type": "code",
   "execution_count": null,
   "id": "a391731c",
   "metadata": {},
   "outputs": [
    {
     "name": "stdout",
     "output_type": "stream",
     "text": [
      "Using one unified encoder to represent protein sample with length 129406\n",
      "Using one unified encoder to represent protein sample with length 129406\n",
      "Using one unified encoder to represent protein sample with length 129406\n",
      "begin training...\n",
      "Epoch: 0 ; loss_e: 0.706354321429604\n",
      "Epoch: 1 ; loss_e: 0.693211723198568\n",
      "Epoch: 2 ; loss_e: 0.690195220789515\n",
      "Epoch: 3 ; loss_e: 0.6884701750332252\n",
      "Epoch: 27 ; loss_e: 0.6852325250152358\n"
     ]
    }
   ],
   "source": [
    "##########################################################\n",
    "# Train the model\n",
    "##########################################################\n",
    "import time\n",
    "training = Trainer(model=model, warmup_iteration=args.warmup_iteration, seq_length=seq_length,\n",
    "                   batch_size=args.batch_size, num_workers=args.num_workers, vocab_size=vocab_size,\n",
    "                   model_dir = args.model_dir, save_iter=args.save_iter,\n",
    "                   pklpath=pklpath)\n",
    "print('begin training...')\n",
    "start_time = time.time()  # Start time of the training\n",
    "training.train(args.num_epochs)\n",
    "end_time = time.time()  # End time of the training"
   ]
  },
  {
   "cell_type": "code",
   "execution_count": null,
   "id": "d60b4522",
   "metadata": {},
   "outputs": [],
   "source": [
    "elapsed_time = end_time - start_time  # Calculate the traiing time\n",
    "print(f\"Elapsed time: {round(elapsed_time)} seconds\")"
   ]
  },
  {
   "cell_type": "code",
   "execution_count": null,
   "id": "e14a527e",
   "metadata": {},
   "outputs": [],
   "source": []
  }
 ],
 "metadata": {
  "kernelspec": {
   "display_name": "progen-salesforce",
   "language": "python",
   "name": "progen-salesforce"
  },
  "language_info": {
   "codemirror_mode": {
    "name": "ipython",
    "version": 3
   },
   "file_extension": ".py",
   "mimetype": "text/x-python",
   "name": "python",
   "nbconvert_exporter": "python",
   "pygments_lexer": "ipython3",
   "version": "3.8.16"
  }
 },
 "nbformat": 4,
 "nbformat_minor": 5
}
