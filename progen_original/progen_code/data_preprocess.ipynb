{
 "cells": [
  {
   "cell_type": "markdown",
   "id": "4a5bc9b5",
   "metadata": {},
   "source": [
    "## BGC training samples on S3:\n",
    "`aws s3 ls s3://share.jgi-ga.org/satria/for_bgc_gpt/ --recursive`"
   ]
  },
  {
   "cell_type": "code",
   "execution_count": 1,
   "id": "4080058d",
   "metadata": {},
   "outputs": [],
   "source": [
    "import json\n",
    "import pickle\n",
    "import pandas as pd\n",
    "import numpy as np\n",
    "\n",
    "# Read JSON data from file\n",
    "with open('../miBIG/S3/data-1.json', 'r') as json_file:\n",
    "    json_data = json.load(json_file)\n",
    "\n",
    "json_dict = {}\n",
    "for k in range(len(json_data[:])):\n",
    "    d = json_data[k]\n",
    "    d['seq'] = d['seq'].replace(' ', 'B')\n",
    "    list(d['swiss'].keys())[0]\n",
    "    uid = 'BGC' + list(d['swiss'].keys())[0] + '-' + str(k)\n",
    "    d['swiss'] = dict(zip([uid], d['swiss'].values()))\n",
    "    json_dict[uid] = d"
   ]
  },
  {
   "cell_type": "code",
   "execution_count": 2,
   "id": "97f814f0",
   "metadata": {},
   "outputs": [
    {
     "data": {
      "text/html": [
       "<div>\n",
       "<style scoped>\n",
       "    .dataframe tbody tr th:only-of-type {\n",
       "        vertical-align: middle;\n",
       "    }\n",
       "\n",
       "    .dataframe tbody tr th {\n",
       "        vertical-align: top;\n",
       "    }\n",
       "\n",
       "    .dataframe thead th {\n",
       "        text-align: right;\n",
       "    }\n",
       "</style>\n",
       "<table border=\"1\" class=\"dataframe\">\n",
       "  <thead>\n",
       "    <tr style=\"text-align: right;\">\n",
       "      <th></th>\n",
       "      <th>key</th>\n",
       "      <th>value</th>\n",
       "    </tr>\n",
       "  </thead>\n",
       "  <tbody>\n",
       "    <tr>\n",
       "      <th>0</th>\n",
       "      <td>472</td>\n",
       "      <td>0</td>\n",
       "    </tr>\n",
       "    <tr>\n",
       "      <th>1</th>\n",
       "      <td>812</td>\n",
       "      <td>1</td>\n",
       "    </tr>\n",
       "    <tr>\n",
       "      <th>2</th>\n",
       "      <td>1133</td>\n",
       "      <td>2</td>\n",
       "    </tr>\n",
       "    <tr>\n",
       "      <th>3</th>\n",
       "      <td>808</td>\n",
       "      <td>3</td>\n",
       "    </tr>\n",
       "    <tr>\n",
       "      <th>4</th>\n",
       "      <td>175</td>\n",
       "      <td>4</td>\n",
       "    </tr>\n",
       "    <tr>\n",
       "      <th>...</th>\n",
       "      <td>...</td>\n",
       "      <td>...</td>\n",
       "    </tr>\n",
       "    <tr>\n",
       "      <th>129402</th>\n",
       "      <td>W</td>\n",
       "      <td>129402</td>\n",
       "    </tr>\n",
       "    <tr>\n",
       "      <th>129403</th>\n",
       "      <td>X</td>\n",
       "      <td>129403</td>\n",
       "    </tr>\n",
       "    <tr>\n",
       "      <th>129404</th>\n",
       "      <td>Y</td>\n",
       "      <td>129404</td>\n",
       "    </tr>\n",
       "    <tr>\n",
       "      <th>129405</th>\n",
       "      <td>Z</td>\n",
       "      <td>129405</td>\n",
       "    </tr>\n",
       "    <tr>\n",
       "      <th>129406</th>\n",
       "      <td>PAD</td>\n",
       "      <td>129406</td>\n",
       "    </tr>\n",
       "  </tbody>\n",
       "</table>\n",
       "<p>129407 rows × 2 columns</p>\n",
       "</div>"
      ],
      "text/plain": [
       "         key   value\n",
       "0        472       0\n",
       "1        812       1\n",
       "2       1133       2\n",
       "3        808       3\n",
       "4        175       4\n",
       "...      ...     ...\n",
       "129402     W  129402\n",
       "129403     X  129403\n",
       "129404     Y  129404\n",
       "129405     Z  129405\n",
       "129406   PAD  129406\n",
       "\n",
       "[129407 rows x 2 columns]"
      ]
     },
     "execution_count": 2,
     "metadata": {},
     "output_type": "execute_result"
    }
   ],
   "source": [
    "vocab_df = pd.read_csv('mapping_files/vocab.txt', sep=' ',header=None)\n",
    "vocab_df.columns = ['key','value']\n",
    "vocab_df"
   ]
  },
  {
   "cell_type": "code",
   "execution_count": 3,
   "id": "446499df",
   "metadata": {},
   "outputs": [
    {
     "data": {
      "text/plain": [
       "array(['GCF-244878', 'GCF-245373', 'GCF-245671', 'GCF-245936',\n",
       "       'GCF-246515', 'GCF-247890'], dtype='<U10')"
      ]
     },
     "execution_count": 3,
     "metadata": {},
     "output_type": "execute_result"
    }
   ],
   "source": [
    "kw = [(json_dict[uid]['swiss'][uid]['kw'], uid) for uid in json_dict.keys()]\n",
    "kw_types = np.unique([k[0][0] for k in kw])\n",
    "kw_types"
   ]
  },
  {
   "cell_type": "code",
   "execution_count": 4,
   "id": "c5128e28",
   "metadata": {},
   "outputs": [
    {
     "data": {
      "text/plain": [
       "{'GCF-244878': '472',\n",
       " 'GCF-245373': '812',\n",
       " 'GCF-245671': '1133',\n",
       " 'GCF-245936': '808',\n",
       " 'GCF-246515': '175',\n",
       " 'GCF-247890': '732'}"
      ]
     },
     "execution_count": 4,
     "metadata": {},
     "output_type": "execute_result"
    }
   ],
   "source": [
    "kw_types_uid = {}\n",
    "for k in kw:\n",
    "    if k[0][0] not in kw_types_uid:\n",
    "        kw_types_uid[k[0][0]] = k[1]\n",
    "\n",
    "kw_map = dict(zip(kw_types, vocab_df['key'][:len(kw_types)]))\n",
    "kw_map"
   ]
  },
  {
   "cell_type": "markdown",
   "id": "8dee361f",
   "metadata": {},
   "source": [
    "## Before replacement"
   ]
  },
  {
   "cell_type": "code",
   "execution_count": 5,
   "id": "7ab97afe",
   "metadata": {},
   "outputs": [
    {
     "name": "stdout",
     "output_type": "stream",
     "text": [
      "{'swiss': {'BGC82598-0': {'ex': 1, 'kw': ['GCF-244878', 'RiPP/bacteriocin'], 'taxa': []}}, 'seq': 'MNGKRNIFTCISIIGIGLASFSSFSFAANVTDNSVQNSIPVVNQQVAAAKEMKPFPQQVNYAGVIKPTHVTQESLNASVRSYYDNWKKKYLKNDLSSLPGGYYVKGEITGDADGFKPLGTSEGQGYGMIITVLMAGYDSNAQKIYDGLFKTARTFKSSQNPNLMGWVVADSKKAQGHFDSATDGDLDIAYSLLLAHKQWGSNGTVNYLKEAQDMITKGIKASNVTNNSRLNLGDWDSKNSLDTRPSDWMMSHLRAFYEFTGDKTWLTVINNLYDVYTQFSNKYSPNTGLISDFVVKNPPQPAPKDFLEESEYTNAYYYNASRVPLRIVMDYAMYGEKRSKVISDKVSSWIQNKTNGNPSKIVDGYQLNGSNIGSYSTAVFVSPFIAASITSSNNQKWVNSGWDWMKNKRESYFSDSYNLLTMLFITGNWWKPVPDDKKIQNQINDAIYEGYDNBMEKVLFFGDPGIDDSFAIMYGLLHPEIEIVGIVTGYGNVEHIHAAHNAAYILQLANRQ'}\n",
      "{'swiss': {'BGC248950-282': {'ex': 1, 'kw': ['GCF-245936', 'Other/butyrolactone'], 'taxa': []}}, 'seq': 'MEILKPQPTSKAPSDWFTGDVWWDVIYAGQEPSRMRANMVRFAPCARTDWHSHALGQTLHIVSGTALVQARGGEIVEVHPGETVYTPAGEEHWHGAAPDRFMSHLALWEGPGDGGTETTWGDKVTDEEYGGPRARRRBMTDYDDLDMFGGLDASSLPLRQQQILMTIRDLVAANGCTPSTRQIGDAVGLRSTSTVSKHLKSLEEKGFLRRGAAMARQLDVRPFLVGAKEQSSSNTVTVPVVGDIAAGAPILAEEHADEVLALPRELVGSGTVFGLRVRGESMVDAAICDGDVVVVRRQDEAHSGEIVAAMIDGEATVKVLRRRDGHVYLEPRNPAYSVIDGDRAVILGKVVSVMRRIBMEQLEPMRPVSVAVDTRIKTPLWKMVVLYPAVTSVFMFAALTTRTGIGLVVLGLAIFVVGATTYAMSERRMLRENSGVRVPYFAGPPVAPRHVDLLAAAGMPLLTSGAVLTVRASEAARPWVFISVFVIAMVLAITVPMVVHNARVKRTESABM'}\n",
      "{'swiss': {'BGC171057-527': {'ex': 1, 'kw': ['GCF-245671', 'Other/melanin'], 'taxa': []}}, 'seq': 'MHLPPTGSRPRVLHVTQPVDGGVARVVTDLTRAQLAAGLSVAVACPDGHLGDRLRALGADVHHWPATRSPGPALVPEVRRLTRVTWAVRPDLVHAHSAKAGLAARLAVRGRIPTVFQPHAWSFEAVGGPARALALYWERWGARWAARTVCVSEAERWRGVRAGVRGRWSVIPNGIDTNRFPAGGTPEDPTDADGVRFRHGIGPHAPLVVCVGRLCRQKGQDVLLAAWRSVLARVPDARLVLVGDGPDRSPLTARASAYGFLDGARASVVFAGGVDDVAAWYRAADLVVLPSRWEGMALAPLEAMACGRPVVVTDVDGAREGLPPALEPHCLVPPEEPATLAGAVAALLLDAPLRASLGRRGHAHVRSAHDVRHTAAAVAALYBMSRIAKGLALTSVAAAAVAGTAGVAAADSGAKAAAAHSPGVLSGNVVQVPVHIPVNVCGNTVDIIGLLNPAFGNECENDBMRLPARRIATTALCAGLLIGLSGPAVMAADGESARERTHAVSQAPLPDL'}\n",
      "{'swiss': {'BGC146756-898': {'ex': 1, 'kw': ['GCF-247890', 'RiPP/bacteriocin'], 'taxa': []}}, 'seq': 'MSQTVVSIGRDAPFKQIVVTMEQWKVSALPVLEGEGRVVGVVSEADLLPKEEFRDGDPSRMEQLRRPEELARVGAVTAGELMTSPAVCVHARATLAEAARIMARRRVKRLPVTDADGLLVGVVSRGDLLKVFLRPDEDIARQVRREVVEPLFPGGDRSVGVRVADGVVTFTGEIRNTALVPVAARMARSVEGVVDVGFDLGRSABMIVTANNLLGALPPENRERLLELAREVSFPAGARISEEGHRADRFWVIRTGSVTLDMRVPGRRPAAVETLSHGDLLGWSWLFPPYTWQLGAEALSPVRALEFDAARVRQLCEADPVLGRAVALRMAEIISHRLQAARTRLLDLYGPYGSGPMPBMAVHGHTHGHRGFRLPVRRTTRTAPASGETAAATAVVPAASTAARVLAGVRFATGFVFLWAFADKAFGLGYATPAERAWIEGGSPTKGFLSGVAVGPLESFFHDIAGAAWADWLFMLGLLGIGLALTAGVALRLTAAAGTVMMALMWAAEWPL'}\n",
      "{'swiss': {'BGC242631-3811': {'ex': 1, 'kw': ['GCF-246515', 'RiPP/bacteriocin'], 'taxa': []}}, 'seq': 'MQYQYTPYIWSLIASAFVTLLLGIYAFTRRKNAKGAMGFMLSMITLTLWSCTNALEMSAVDLTTKLFWSNMQYFAYCYSPVTLLALCMEFTGYDRWIKNKKILFIAVVPTIIIFLVWTNGLHGLMRYDIHMDYSGLFPTMGKKYGYAFYVHAIYSHVLNLLAWVLLIKAVFLNNTVYRKQAAALFWGLSLIIVPNMMYILGFGLSFDLTPVFFGPSGMIAAWGIFRYKLFEVIPVARATVIETMDAGVMVLDLQNRILDINPALERIVGYTASAACTKLVGEVCHRIPEIARACVDRATTHGEFSININGEAKTYEILLSPLTDKKNIFIGRLAVIYDITEKKLEQQEYLKQQQKLAATEERERLARDMHDNLGQVLGFINLQAQGIRQELTKADVNIVTSKLDKLVTVTQSAHEEIREYIRKTRNTEFMKTDFIEVLKKDILNFERQWGIRAKQDFHGGLIGEKIKTNIQVNILNIVKEALNNIGKHAKAKNVCISLLFSQGQLSIIIEDD'}\n",
      "{'swiss': {'BGC1204557-4906': {'ex': 1, 'kw': ['GCF-245373', 'Other/butyrolactone'], 'taxa': []}}, 'seq': 'MTKAKVGMPVFQLGIIGAALFLSILTEALPAGFLHSLEQSFHVSASEAGQWVTLYAVGSLCSAAPLTLATQHWSRKNLLLITLGGFAVSNGITAAVDSFVITLFARFIAGIFAGLLWALAAGYAGRMVKPSRQGRAITIVMLGVPLALSLGVPAGTFLGGIYGWRTIFYAMTLLAGLLFVAGMMTLPEQKGTSYSERFSIGKVLSIPGVKTILVATFIFSLGHNMMYTYISPYLTESLGIRHISTFLLIFGVMAVTSIVITGVFIDRHLRFLIMSGLFLFILSSIILSFFYKNTYSVMSASFLWGLGFGGGATLFQTASARTAGKASDIAQSLMVTVWNMAIAGGGLAGGILLTWSGVLSLPLVLTGLLLFCFFLVWGSNAKGFFQEBMKILHSVIEKGINFLDTADIYGYGHNEKILGKVLQNYAADEVIVATKCGIVRDVYNPLHREVNNSRDYILRSFEQSFERLGRSIDLYYLHRVIQKPASLRESMRAMYQLRSDGRINAIGLSEVS'}\n"
     ]
    }
   ],
   "source": [
    "for uid in kw_types_uid.values():\n",
    "    print(json_dict[uid])"
   ]
  },
  {
   "cell_type": "markdown",
   "id": "9b6a7706",
   "metadata": {},
   "source": [
    "## Replacing `kw` and `taxa`"
   ]
  },
  {
   "cell_type": "code",
   "execution_count": 6,
   "id": "fcbd8cc0",
   "metadata": {},
   "outputs": [],
   "source": [
    "for uid in json_dict.keys():\n",
    "    json_dict[uid]['swiss'][uid]['taxa'] = [9606] # homo sapiens taxonomy id from NCBI: https://www.ncbi.nlm.nih.gov/taxonomy\n",
    "    kw_tmp = json_dict[uid]['swiss'][uid]['kw']\n",
    "    json_dict[uid]['swiss'][uid]['kw'] = [kw_map[kw_tmp[0]]]"
   ]
  },
  {
   "cell_type": "markdown",
   "id": "272245fd",
   "metadata": {},
   "source": [
    "## After replacement"
   ]
  },
  {
   "cell_type": "code",
   "execution_count": 7,
   "id": "ab2d473e",
   "metadata": {},
   "outputs": [
    {
     "name": "stdout",
     "output_type": "stream",
     "text": [
      "{'swiss': {'BGC82598-0': {'ex': 1, 'kw': ['472'], 'taxa': [9606]}}, 'seq': 'MNGKRNIFTCISIIGIGLASFSSFSFAANVTDNSVQNSIPVVNQQVAAAKEMKPFPQQVNYAGVIKPTHVTQESLNASVRSYYDNWKKKYLKNDLSSLPGGYYVKGEITGDADGFKPLGTSEGQGYGMIITVLMAGYDSNAQKIYDGLFKTARTFKSSQNPNLMGWVVADSKKAQGHFDSATDGDLDIAYSLLLAHKQWGSNGTVNYLKEAQDMITKGIKASNVTNNSRLNLGDWDSKNSLDTRPSDWMMSHLRAFYEFTGDKTWLTVINNLYDVYTQFSNKYSPNTGLISDFVVKNPPQPAPKDFLEESEYTNAYYYNASRVPLRIVMDYAMYGEKRSKVISDKVSSWIQNKTNGNPSKIVDGYQLNGSNIGSYSTAVFVSPFIAASITSSNNQKWVNSGWDWMKNKRESYFSDSYNLLTMLFITGNWWKPVPDDKKIQNQINDAIYEGYDNBMEKVLFFGDPGIDDSFAIMYGLLHPEIEIVGIVTGYGNVEHIHAAHNAAYILQLANRQ'}\n",
      "{'swiss': {'BGC248950-282': {'ex': 1, 'kw': ['808'], 'taxa': [9606]}}, 'seq': 'MEILKPQPTSKAPSDWFTGDVWWDVIYAGQEPSRMRANMVRFAPCARTDWHSHALGQTLHIVSGTALVQARGGEIVEVHPGETVYTPAGEEHWHGAAPDRFMSHLALWEGPGDGGTETTWGDKVTDEEYGGPRARRRBMTDYDDLDMFGGLDASSLPLRQQQILMTIRDLVAANGCTPSTRQIGDAVGLRSTSTVSKHLKSLEEKGFLRRGAAMARQLDVRPFLVGAKEQSSSNTVTVPVVGDIAAGAPILAEEHADEVLALPRELVGSGTVFGLRVRGESMVDAAICDGDVVVVRRQDEAHSGEIVAAMIDGEATVKVLRRRDGHVYLEPRNPAYSVIDGDRAVILGKVVSVMRRIBMEQLEPMRPVSVAVDTRIKTPLWKMVVLYPAVTSVFMFAALTTRTGIGLVVLGLAIFVVGATTYAMSERRMLRENSGVRVPYFAGPPVAPRHVDLLAAAGMPLLTSGAVLTVRASEAARPWVFISVFVIAMVLAITVPMVVHNARVKRTESABM'}\n",
      "{'swiss': {'BGC171057-527': {'ex': 1, 'kw': ['1133'], 'taxa': [9606]}}, 'seq': 'MHLPPTGSRPRVLHVTQPVDGGVARVVTDLTRAQLAAGLSVAVACPDGHLGDRLRALGADVHHWPATRSPGPALVPEVRRLTRVTWAVRPDLVHAHSAKAGLAARLAVRGRIPTVFQPHAWSFEAVGGPARALALYWERWGARWAARTVCVSEAERWRGVRAGVRGRWSVIPNGIDTNRFPAGGTPEDPTDADGVRFRHGIGPHAPLVVCVGRLCRQKGQDVLLAAWRSVLARVPDARLVLVGDGPDRSPLTARASAYGFLDGARASVVFAGGVDDVAAWYRAADLVVLPSRWEGMALAPLEAMACGRPVVVTDVDGAREGLPPALEPHCLVPPEEPATLAGAVAALLLDAPLRASLGRRGHAHVRSAHDVRHTAAAVAALYBMSRIAKGLALTSVAAAAVAGTAGVAAADSGAKAAAAHSPGVLSGNVVQVPVHIPVNVCGNTVDIIGLLNPAFGNECENDBMRLPARRIATTALCAGLLIGLSGPAVMAADGESARERTHAVSQAPLPDL'}\n",
      "{'swiss': {'BGC146756-898': {'ex': 1, 'kw': ['732'], 'taxa': [9606]}}, 'seq': 'MSQTVVSIGRDAPFKQIVVTMEQWKVSALPVLEGEGRVVGVVSEADLLPKEEFRDGDPSRMEQLRRPEELARVGAVTAGELMTSPAVCVHARATLAEAARIMARRRVKRLPVTDADGLLVGVVSRGDLLKVFLRPDEDIARQVRREVVEPLFPGGDRSVGVRVADGVVTFTGEIRNTALVPVAARMARSVEGVVDVGFDLGRSABMIVTANNLLGALPPENRERLLELAREVSFPAGARISEEGHRADRFWVIRTGSVTLDMRVPGRRPAAVETLSHGDLLGWSWLFPPYTWQLGAEALSPVRALEFDAARVRQLCEADPVLGRAVALRMAEIISHRLQAARTRLLDLYGPYGSGPMPBMAVHGHTHGHRGFRLPVRRTTRTAPASGETAAATAVVPAASTAARVLAGVRFATGFVFLWAFADKAFGLGYATPAERAWIEGGSPTKGFLSGVAVGPLESFFHDIAGAAWADWLFMLGLLGIGLALTAGVALRLTAAAGTVMMALMWAAEWPL'}\n",
      "{'swiss': {'BGC242631-3811': {'ex': 1, 'kw': ['175'], 'taxa': [9606]}}, 'seq': 'MQYQYTPYIWSLIASAFVTLLLGIYAFTRRKNAKGAMGFMLSMITLTLWSCTNALEMSAVDLTTKLFWSNMQYFAYCYSPVTLLALCMEFTGYDRWIKNKKILFIAVVPTIIIFLVWTNGLHGLMRYDIHMDYSGLFPTMGKKYGYAFYVHAIYSHVLNLLAWVLLIKAVFLNNTVYRKQAAALFWGLSLIIVPNMMYILGFGLSFDLTPVFFGPSGMIAAWGIFRYKLFEVIPVARATVIETMDAGVMVLDLQNRILDINPALERIVGYTASAACTKLVGEVCHRIPEIARACVDRATTHGEFSININGEAKTYEILLSPLTDKKNIFIGRLAVIYDITEKKLEQQEYLKQQQKLAATEERERLARDMHDNLGQVLGFINLQAQGIRQELTKADVNIVTSKLDKLVTVTQSAHEEIREYIRKTRNTEFMKTDFIEVLKKDILNFERQWGIRAKQDFHGGLIGEKIKTNIQVNILNIVKEALNNIGKHAKAKNVCISLLFSQGQLSIIIEDD'}\n",
      "{'swiss': {'BGC1204557-4906': {'ex': 1, 'kw': ['812'], 'taxa': [9606]}}, 'seq': 'MTKAKVGMPVFQLGIIGAALFLSILTEALPAGFLHSLEQSFHVSASEAGQWVTLYAVGSLCSAAPLTLATQHWSRKNLLLITLGGFAVSNGITAAVDSFVITLFARFIAGIFAGLLWALAAGYAGRMVKPSRQGRAITIVMLGVPLALSLGVPAGTFLGGIYGWRTIFYAMTLLAGLLFVAGMMTLPEQKGTSYSERFSIGKVLSIPGVKTILVATFIFSLGHNMMYTYISPYLTESLGIRHISTFLLIFGVMAVTSIVITGVFIDRHLRFLIMSGLFLFILSSIILSFFYKNTYSVMSASFLWGLGFGGGATLFQTASARTAGKASDIAQSLMVTVWNMAIAGGGLAGGILLTWSGVLSLPLVLTGLLLFCFFLVWGSNAKGFFQEBMKILHSVIEKGINFLDTADIYGYGHNEKILGKVLQNYAADEVIVATKCGIVRDVYNPLHREVNNSRDYILRSFEQSFERLGRSIDLYYLHRVIQKPASLRESMRAMYQLRSDGRINAIGLSEVS'}\n"
     ]
    }
   ],
   "source": [
    "for uid in kw_types_uid.values():\n",
    "    print(json_dict[uid])"
   ]
  },
  {
   "cell_type": "code",
   "execution_count": 8,
   "id": "ac5f0332",
   "metadata": {},
   "outputs": [],
   "source": [
    "# Convert Python object to pickle\n",
    "with open('../miBIG/S3_pickle/data-1.pickle', 'wb') as pickle_file:\n",
    "    pickle.dump(json_dict, pickle_file)"
   ]
  },
  {
   "cell_type": "code",
   "execution_count": null,
   "id": "ff09acd6",
   "metadata": {},
   "outputs": [],
   "source": []
  }
 ],
 "metadata": {
  "kernelspec": {
   "display_name": "progen-salesforce",
   "language": "python",
   "name": "progen-salesforce"
  },
  "language_info": {
   "codemirror_mode": {
    "name": "ipython",
    "version": 3
   },
   "file_extension": ".py",
   "mimetype": "text/x-python",
   "name": "python",
   "nbconvert_exporter": "python",
   "pygments_lexer": "ipython3",
   "version": "3.8.16"
  }
 },
 "nbformat": 4,
 "nbformat_minor": 5
}
